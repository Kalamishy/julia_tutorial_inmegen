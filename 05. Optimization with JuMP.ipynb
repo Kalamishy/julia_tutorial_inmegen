{
 "cells": [
  {
   "cell_type": "markdown",
   "metadata": {},
   "source": [
    "# Optimization with JuMP"
   ]
  },
  {
   "cell_type": "markdown",
   "metadata": {},
   "source": [
    "Julia has several packages for optimization, root-finding, etc. \n",
    "For optimization, there are pure-Julia routines in Optim.jl, and an interface to the NLOpt package in NLOpt.jl. \n",
    "\n",
    "But one of the crown jewels of Julia is JuMP.jl (which stands for Julia Mathematical Programming, i.e. mathematical optimization). This provides a \"domain-specific language\" (DSL) for specifying constrained optimization problems, which it converts into the correct syntax for a range of commercial and open-source optimization packages (\"solvers\")."
   ]
  },
  {
   "cell_type": "markdown",
   "metadata": {},
   "source": [
    "Let's see an example, taken from the JuMP documentation. First a linear programming example:"
   ]
  },
  {
   "cell_type": "code",
   "execution_count": 7,
   "metadata": {},
   "outputs": [],
   "source": [
    "using JuMP, GLPK, Test"
   ]
  },
  {
   "cell_type": "code",
   "execution_count": 15,
   "metadata": {},
   "outputs": [
    {
     "name": "stdout",
     "output_type": "stream",
     "text": [
      "Max 5 x + 3 y\n",
      "Subject to\n",
      " x ≥ 0.0\n",
      " y ≥ 0.0\n",
      " x ≤ 2.0\n",
      " y ≤ 30.0\n",
      " x + 5 y ≤ 3.0\n",
      "Objective value: 10.6\n",
      "x = 2.0\n",
      "y = 0.2\n"
     ]
    },
    {
     "data": {
      "text/plain": [
       "\u001b[32m\u001b[1mTest Passed\u001b[22m\u001b[39m"
      ]
     },
     "execution_count": 15,
     "metadata": {},
     "output_type": "execute_result"
    }
   ],
   "source": [
    "\"\"\"\n",
    "example_basic([; verbose = true])\n",
    "Formulate and solve a simple LP:\n",
    "    max 5x + 3y\n",
    "     st 1x + 5y <= 3\n",
    "         0 <= x <= 2\n",
    "         0 <= y <= 30\n",
    "If `verbose = true`, print the model and the solution.\n",
    "\"\"\"\n",
    "function example_basic(; verbose = true)\n",
    "    model = Model(with_optimizer(GLPK.Optimizer))\n",
    "\n",
    "    @variable(model, 0 <= x <= 2)\n",
    "    @variable(model, 0 <= y <= 30)\n",
    "\n",
    "    @objective(model, Max, 5x + 3y)\n",
    "    @constraint(model, 1x + 5y <= 3.0)\n",
    "\n",
    "    if verbose\n",
    "        print(model)\n",
    "    end\n",
    "\n",
    "    JuMP.optimize!(model)\n",
    "\n",
    "    obj_value = JuMP.objective_value(model)\n",
    "    x_value = JuMP.value(x)\n",
    "    y_value = JuMP.value(y)\n",
    "\n",
    "    if verbose\n",
    "        println(\"Objective value: \", obj_value)\n",
    "        println(\"x = \", x_value)\n",
    "        println(\"y = \", y_value)\n",
    "    end\n",
    "\n",
    "    @test obj_value ≈ 10.6\n",
    "    @test x_value ≈ 2\n",
    "    @test y_value ≈ 0.2\n",
    "end\n",
    "\n",
    "example_basic(verbose = true)"
   ]
  },
  {
   "cell_type": "code",
   "execution_count": null,
   "metadata": {},
   "outputs": [],
   "source": []
  }
 ],
 "metadata": {
  "kernelspec": {
   "display_name": "Julia 1.1.0",
   "language": "julia",
   "name": "julia-1.1"
  },
  "language_info": {
   "file_extension": ".jl",
   "mimetype": "application/julia",
   "name": "julia",
   "version": "1.1.0"
  },
  "toc": {
   "colors": {
    "hover_highlight": "#DAA520",
    "running_highlight": "#FF0000",
    "selected_highlight": "#FFD700"
   },
   "moveMenuLeft": true,
   "nav_menu": {
    "height": "137px",
    "width": "251px"
   },
   "navigate_menu": true,
   "number_sections": true,
   "sideBar": true,
   "threshold": "2",
   "toc_cell": false,
   "toc_section_display": "block",
   "toc_window_display": false
  }
 },
 "nbformat": 4,
 "nbformat_minor": 2
}
